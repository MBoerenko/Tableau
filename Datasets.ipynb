{
 "cells": [
  {
   "cell_type": "code",
   "execution_count": 1,
   "metadata": {},
   "outputs": [],
   "source": [
    "# Dependencies and Setup\n",
    "import pandas as pd\n",
    "import numpy as np\n",
    "\n",
    "# Files to Load\n",
    "april2020_data_to_load = \"Datasets/202004-citibike-tripdata.csv\"\n",
    "february2020_data_to_load = \"Datasets/202002-citibike-tripdata.csv\"\n",
    "march2020_data_to_load = \"Datasets/202003-citibike-tripdata.csv\"\n",
    "april2019_data_to_load = \"Datasets/201904-citibike-tripdata.csv\"\n",
    "february2019_data_to_load = \"Datasets/201902-citibike-tripdata.csv\"\n",
    "march2019_data_to_load = \"Datasets/201903-citibike-tripdata.csv\"\n",
    "april2018_data_to_load = \"Datasets/201804-citibike-tripdata.csv\"\n",
    "february2018_data_to_load = \"Datasets/201802-citibike-tripdata.csv\"\n",
    "march2018_data_to_load = \"Datasets/201803-citibike-tripdata.csv\"\n",
    "\n",
    "\n",
    "# Read Data Files and store into Pandas DataFrames\n",
    "april2020_data = pd.read_csv(april2020_data_to_load)\n",
    "february2020_data = pd.read_csv(february2020_data_to_load)\n",
    "march2020_data = pd.read_csv(march2020_data_to_load)\n",
    "april2019_data = pd.read_csv(april2019_data_to_load)\n",
    "february2019_data = pd.read_csv(february2019_data_to_load)\n",
    "march2019_data = pd.read_csv(march2019_data_to_load)\n",
    "april2018_data = pd.read_csv(april2018_data_to_load)\n",
    "february2018_data = pd.read_csv(february2018_data_to_load)\n",
    "march2018_data = pd.read_csv(march2018_data_to_load)"
   ]
  },
  {
   "cell_type": "code",
   "execution_count": 2,
   "metadata": {},
   "outputs": [],
   "source": [
    "#Update timestamps to simple MMDDYYYY formats.\n",
    "april2020_data['time'] = pd.to_datetime(april2020_data['starttime'])\n",
    "april2020_data['dates'] = april2020_data['time'].dt.date\n",
    "march2020_data['time'] = pd.to_datetime(march2020_data['starttime'])\n",
    "march2020_data['dates'] = march2020_data['time'].dt.date\n",
    "february2020_data['time'] = pd.to_datetime(february2020_data['starttime'])\n",
    "february2020_data['dates'] = february2020_data['time'].dt.date\n",
    "\n",
    "april2019_data['time'] = pd.to_datetime(april2019_data['starttime'])\n",
    "april2019_data['dates'] = april2019_data['time'].dt.date\n",
    "march2019_data['time'] = pd.to_datetime(march2019_data['starttime'])\n",
    "march2019_data['dates'] = march2019_data['time'].dt.date\n",
    "february2019_data['time'] = pd.to_datetime(february2019_data['starttime'])\n",
    "february2019_data['dates'] = february2019_data['time'].dt.date\n",
    "\n",
    "april2018_data['time'] = pd.to_datetime(april2018_data['starttime'])\n",
    "april2018_data['dates'] = april2018_data['time'].dt.date\n",
    "march2018_data['time'] = pd.to_datetime(march2018_data['starttime'])\n",
    "march2018_data['dates'] = march2018_data['time'].dt.date\n",
    "february2018_data['time'] = pd.to_datetime(february2018_data['starttime'])\n",
    "february2018_data['dates'] = february2018_data['time'].dt.date"
   ]
  },
  {
   "cell_type": "code",
   "execution_count": 3,
   "metadata": {},
   "outputs": [],
   "source": [
    "#Create one dataset for all of the files\n",
    "overall_report= pd.concat([april2020_data, february2020_data, march2020_data, april2019_data,\n",
    "february2019_data, march2019_data, april2018_data, february2018_data, march2018_data])"
   ]
  },
  {
   "cell_type": "code",
   "execution_count": 4,
   "metadata": {},
   "outputs": [
    {
     "data": {
      "text/plain": [
       "10063176"
      ]
     },
     "execution_count": 4,
     "metadata": {},
     "output_type": "execute_result"
    }
   ],
   "source": [
    "len(overall_report)"
   ]
  },
  {
   "cell_type": "code",
   "execution_count": 5,
   "metadata": {},
   "outputs": [],
   "source": [
    "#Create a database for trip count\n",
    "trip_count_df = overall_report.groupby([overall_report['dates']]).size()"
   ]
  },
  {
   "cell_type": "code",
   "execution_count": 6,
   "metadata": {},
   "outputs": [
    {
     "data": {
      "text/plain": [
       "dates\n",
       "2018-02-01    35561\n",
       "2018-02-02    26313\n",
       "2018-02-03    18385\n",
       "2018-02-04    13959\n",
       "2018-02-05    29068\n",
       "dtype: int64"
      ]
     },
     "execution_count": 6,
     "metadata": {},
     "output_type": "execute_result"
    }
   ],
   "source": [
    "trip_count_df.head()"
   ]
  },
  {
   "cell_type": "code",
   "execution_count": 7,
   "metadata": {},
   "outputs": [
    {
     "data": {
      "text/plain": [
       "268"
      ]
     },
     "execution_count": 7,
     "metadata": {},
     "output_type": "execute_result"
    }
   ],
   "source": [
    "trip_duration_avg = overall_report.groupby(['dates']).mean()[[\"tripduration\"]]\n",
    "len(trip_duration_avg)"
   ]
  },
  {
   "cell_type": "code",
   "execution_count": 8,
   "metadata": {},
   "outputs": [
    {
     "data": {
      "text/html": [
       "<div>\n",
       "<style scoped>\n",
       "    .dataframe tbody tr th:only-of-type {\n",
       "        vertical-align: middle;\n",
       "    }\n",
       "\n",
       "    .dataframe tbody tr th {\n",
       "        vertical-align: top;\n",
       "    }\n",
       "\n",
       "    .dataframe thead th {\n",
       "        text-align: right;\n",
       "    }\n",
       "</style>\n",
       "<table border=\"1\" class=\"dataframe\">\n",
       "  <thead>\n",
       "    <tr style=\"text-align: right;\">\n",
       "      <th></th>\n",
       "      <th>tripduration</th>\n",
       "    </tr>\n",
       "    <tr>\n",
       "      <th>dates</th>\n",
       "      <th></th>\n",
       "    </tr>\n",
       "  </thead>\n",
       "  <tbody>\n",
       "    <tr>\n",
       "      <th>2018-02-01</th>\n",
       "      <td>678.999213</td>\n",
       "    </tr>\n",
       "    <tr>\n",
       "      <th>2018-02-02</th>\n",
       "      <td>654.315509</td>\n",
       "    </tr>\n",
       "    <tr>\n",
       "      <th>2018-02-03</th>\n",
       "      <td>742.198967</td>\n",
       "    </tr>\n",
       "    <tr>\n",
       "      <th>2018-02-04</th>\n",
       "      <td>670.291282</td>\n",
       "    </tr>\n",
       "    <tr>\n",
       "      <th>2018-02-05</th>\n",
       "      <td>722.232386</td>\n",
       "    </tr>\n",
       "    <tr>\n",
       "      <th>...</th>\n",
       "      <td>...</td>\n",
       "    </tr>\n",
       "    <tr>\n",
       "      <th>2020-04-26</th>\n",
       "      <td>1304.814417</td>\n",
       "    </tr>\n",
       "    <tr>\n",
       "      <th>2020-04-27</th>\n",
       "      <td>1295.996741</td>\n",
       "    </tr>\n",
       "    <tr>\n",
       "      <th>2020-04-28</th>\n",
       "      <td>1509.565865</td>\n",
       "    </tr>\n",
       "    <tr>\n",
       "      <th>2020-04-29</th>\n",
       "      <td>1211.325590</td>\n",
       "    </tr>\n",
       "    <tr>\n",
       "      <th>2020-04-30</th>\n",
       "      <td>1230.740957</td>\n",
       "    </tr>\n",
       "  </tbody>\n",
       "</table>\n",
       "<p>268 rows × 1 columns</p>\n",
       "</div>"
      ],
      "text/plain": [
       "            tripduration\n",
       "dates                   \n",
       "2018-02-01    678.999213\n",
       "2018-02-02    654.315509\n",
       "2018-02-03    742.198967\n",
       "2018-02-04    670.291282\n",
       "2018-02-05    722.232386\n",
       "...                  ...\n",
       "2020-04-26   1304.814417\n",
       "2020-04-27   1295.996741\n",
       "2020-04-28   1509.565865\n",
       "2020-04-29   1211.325590\n",
       "2020-04-30   1230.740957\n",
       "\n",
       "[268 rows x 1 columns]"
      ]
     },
     "execution_count": 8,
     "metadata": {},
     "output_type": "execute_result"
    }
   ],
   "source": [
    "trip_duration_avg"
   ]
  },
  {
   "cell_type": "code",
   "execution_count": 9,
   "metadata": {},
   "outputs": [],
   "source": [
    "#Change the gender from numbers to strings\n",
    "overall_report.loc[(overall_report.gender == 0),'gender']='unknown'\n",
    "overall_report.loc[(overall_report.gender == 1),'gender']='male'\n",
    "overall_report.loc[(overall_report.gender == 2),'gender']='female'"
   ]
  },
  {
   "cell_type": "code",
   "execution_count": 10,
   "metadata": {},
   "outputs": [
    {
     "data": {
      "text/html": [
       "<div>\n",
       "<style scoped>\n",
       "    .dataframe tbody tr th:only-of-type {\n",
       "        vertical-align: middle;\n",
       "    }\n",
       "\n",
       "    .dataframe tbody tr th {\n",
       "        vertical-align: top;\n",
       "    }\n",
       "\n",
       "    .dataframe thead th {\n",
       "        text-align: right;\n",
       "    }\n",
       "</style>\n",
       "<table border=\"1\" class=\"dataframe\">\n",
       "  <thead>\n",
       "    <tr style=\"text-align: right;\">\n",
       "      <th></th>\n",
       "      <th>tripduration</th>\n",
       "      <th>starttime</th>\n",
       "      <th>stoptime</th>\n",
       "      <th>start station id</th>\n",
       "      <th>start station name</th>\n",
       "      <th>start station latitude</th>\n",
       "      <th>start station longitude</th>\n",
       "      <th>end station id</th>\n",
       "      <th>end station name</th>\n",
       "      <th>end station latitude</th>\n",
       "      <th>end station longitude</th>\n",
       "      <th>bikeid</th>\n",
       "      <th>usertype</th>\n",
       "      <th>birth year</th>\n",
       "      <th>gender</th>\n",
       "      <th>time</th>\n",
       "      <th>dates</th>\n",
       "    </tr>\n",
       "  </thead>\n",
       "  <tbody>\n",
       "    <tr>\n",
       "      <th>0</th>\n",
       "      <td>534</td>\n",
       "      <td>2020-04-01 00:00:15.2800</td>\n",
       "      <td>2020-04-01 00:09:09.8730</td>\n",
       "      <td>3656.0</td>\n",
       "      <td>E 2 St &amp; Avenue A</td>\n",
       "      <td>40.723077</td>\n",
       "      <td>-73.985836</td>\n",
       "      <td>545.0</td>\n",
       "      <td>E 23 St &amp; 1 Ave</td>\n",
       "      <td>40.736502</td>\n",
       "      <td>-73.978095</td>\n",
       "      <td>15162</td>\n",
       "      <td>Subscriber</td>\n",
       "      <td>1990</td>\n",
       "      <td>female</td>\n",
       "      <td>2020-04-01 00:00:15.280</td>\n",
       "      <td>2020-04-01</td>\n",
       "    </tr>\n",
       "    <tr>\n",
       "      <th>1</th>\n",
       "      <td>529</td>\n",
       "      <td>2020-04-01 00:02:28.9430</td>\n",
       "      <td>2020-04-01 00:11:18.3410</td>\n",
       "      <td>3163.0</td>\n",
       "      <td>Central Park West &amp; W 68 St</td>\n",
       "      <td>40.773407</td>\n",
       "      <td>-73.977825</td>\n",
       "      <td>3301.0</td>\n",
       "      <td>Columbus Ave &amp; W 95 St</td>\n",
       "      <td>40.791956</td>\n",
       "      <td>-73.968087</td>\n",
       "      <td>42861</td>\n",
       "      <td>Subscriber</td>\n",
       "      <td>1974</td>\n",
       "      <td>male</td>\n",
       "      <td>2020-04-01 00:02:28.943</td>\n",
       "      <td>2020-04-01</td>\n",
       "    </tr>\n",
       "    <tr>\n",
       "      <th>2</th>\n",
       "      <td>1488</td>\n",
       "      <td>2020-04-01 00:02:56.0900</td>\n",
       "      <td>2020-04-01 00:27:44.2530</td>\n",
       "      <td>3164.0</td>\n",
       "      <td>Columbus Ave &amp; W 72 St</td>\n",
       "      <td>40.777057</td>\n",
       "      <td>-73.978985</td>\n",
       "      <td>3605.0</td>\n",
       "      <td>31 Ave &amp; Crescent St</td>\n",
       "      <td>40.765835</td>\n",
       "      <td>-73.926547</td>\n",
       "      <td>35989</td>\n",
       "      <td>Subscriber</td>\n",
       "      <td>1982</td>\n",
       "      <td>male</td>\n",
       "      <td>2020-04-01 00:02:56.090</td>\n",
       "      <td>2020-04-01</td>\n",
       "    </tr>\n",
       "    <tr>\n",
       "      <th>3</th>\n",
       "      <td>341</td>\n",
       "      <td>2020-04-01 00:03:25.1410</td>\n",
       "      <td>2020-04-01 00:09:06.3190</td>\n",
       "      <td>3827.0</td>\n",
       "      <td>Halsey St &amp; Broadway</td>\n",
       "      <td>40.685650</td>\n",
       "      <td>-73.915640</td>\n",
       "      <td>3869.0</td>\n",
       "      <td>Van Buren St &amp; Broadway</td>\n",
       "      <td>40.692000</td>\n",
       "      <td>-73.926170</td>\n",
       "      <td>37548</td>\n",
       "      <td>Subscriber</td>\n",
       "      <td>1996</td>\n",
       "      <td>male</td>\n",
       "      <td>2020-04-01 00:03:25.141</td>\n",
       "      <td>2020-04-01</td>\n",
       "    </tr>\n",
       "    <tr>\n",
       "      <th>4</th>\n",
       "      <td>2206</td>\n",
       "      <td>2020-04-01 00:05:35.2790</td>\n",
       "      <td>2020-04-01 00:42:21.9080</td>\n",
       "      <td>3890.0</td>\n",
       "      <td>Grove St &amp; Broadway</td>\n",
       "      <td>40.690470</td>\n",
       "      <td>-73.923511</td>\n",
       "      <td>3058.0</td>\n",
       "      <td>Lewis Ave &amp; Kosciuszko St</td>\n",
       "      <td>40.692371</td>\n",
       "      <td>-73.937054</td>\n",
       "      <td>39701</td>\n",
       "      <td>Subscriber</td>\n",
       "      <td>1977</td>\n",
       "      <td>male</td>\n",
       "      <td>2020-04-01 00:05:35.279</td>\n",
       "      <td>2020-04-01</td>\n",
       "    </tr>\n",
       "  </tbody>\n",
       "</table>\n",
       "</div>"
      ],
      "text/plain": [
       "   tripduration                 starttime                  stoptime  \\\n",
       "0           534  2020-04-01 00:00:15.2800  2020-04-01 00:09:09.8730   \n",
       "1           529  2020-04-01 00:02:28.9430  2020-04-01 00:11:18.3410   \n",
       "2          1488  2020-04-01 00:02:56.0900  2020-04-01 00:27:44.2530   \n",
       "3           341  2020-04-01 00:03:25.1410  2020-04-01 00:09:06.3190   \n",
       "4          2206  2020-04-01 00:05:35.2790  2020-04-01 00:42:21.9080   \n",
       "\n",
       "   start station id           start station name  start station latitude  \\\n",
       "0            3656.0            E 2 St & Avenue A               40.723077   \n",
       "1            3163.0  Central Park West & W 68 St               40.773407   \n",
       "2            3164.0       Columbus Ave & W 72 St               40.777057   \n",
       "3            3827.0         Halsey St & Broadway               40.685650   \n",
       "4            3890.0          Grove St & Broadway               40.690470   \n",
       "\n",
       "   start station longitude  end station id           end station name  \\\n",
       "0               -73.985836           545.0            E 23 St & 1 Ave   \n",
       "1               -73.977825          3301.0     Columbus Ave & W 95 St   \n",
       "2               -73.978985          3605.0       31 Ave & Crescent St   \n",
       "3               -73.915640          3869.0    Van Buren St & Broadway   \n",
       "4               -73.923511          3058.0  Lewis Ave & Kosciuszko St   \n",
       "\n",
       "   end station latitude  end station longitude  bikeid    usertype  \\\n",
       "0             40.736502             -73.978095   15162  Subscriber   \n",
       "1             40.791956             -73.968087   42861  Subscriber   \n",
       "2             40.765835             -73.926547   35989  Subscriber   \n",
       "3             40.692000             -73.926170   37548  Subscriber   \n",
       "4             40.692371             -73.937054   39701  Subscriber   \n",
       "\n",
       "   birth year  gender                    time       dates  \n",
       "0        1990  female 2020-04-01 00:00:15.280  2020-04-01  \n",
       "1        1974    male 2020-04-01 00:02:28.943  2020-04-01  \n",
       "2        1982    male 2020-04-01 00:02:56.090  2020-04-01  \n",
       "3        1996    male 2020-04-01 00:03:25.141  2020-04-01  \n",
       "4        1977    male 2020-04-01 00:05:35.279  2020-04-01  "
      ]
     },
     "execution_count": 10,
     "metadata": {},
     "output_type": "execute_result"
    }
   ],
   "source": [
    "overall_report.head()"
   ]
  },
  {
   "cell_type": "code",
   "execution_count": 11,
   "metadata": {},
   "outputs": [],
   "source": [
    "#Create a database for the count of trips by gender\n",
    "gender_df = overall_report.groupby(['dates', 'gender']).size()"
   ]
  },
  {
   "cell_type": "code",
   "execution_count": 12,
   "metadata": {},
   "outputs": [
    {
     "data": {
      "text/plain": [
       "804"
      ]
     },
     "execution_count": 12,
     "metadata": {},
     "output_type": "execute_result"
    }
   ],
   "source": [
    "len(gender_df)"
   ]
  },
  {
   "cell_type": "code",
   "execution_count": 13,
   "metadata": {},
   "outputs": [
    {
     "data": {
      "text/plain": [
       "dates       gender \n",
       "2018-02-01  female      7526\n",
       "            male       26922\n",
       "            unknown     1113\n",
       "2018-02-02  female      5236\n",
       "            male       20344\n",
       "                       ...  \n",
       "2020-04-29  male       13911\n",
       "            unknown     1664\n",
       "2020-04-30  female      3700\n",
       "            male        9815\n",
       "            unknown     1027\n",
       "Length: 804, dtype: int64"
      ]
     },
     "execution_count": 13,
     "metadata": {},
     "output_type": "execute_result"
    }
   ],
   "source": [
    "gender_df"
   ]
  },
  {
   "cell_type": "code",
   "execution_count": 14,
   "metadata": {},
   "outputs": [],
   "source": [
    "#Create a database of the number of trips by the types of users\n",
    "usertype_df= overall_report.groupby(['dates', 'usertype']).size()"
   ]
  },
  {
   "cell_type": "code",
   "execution_count": 15,
   "metadata": {},
   "outputs": [
    {
     "data": {
      "text/plain": [
       "dates       usertype  \n",
       "2018-02-01  Customer        635\n",
       "            Subscriber    34926\n",
       "2018-02-02  Customer        429\n",
       "            Subscriber    25884\n",
       "2018-02-03  Customer        772\n",
       "                          ...  \n",
       "2020-04-28  Subscriber    28898\n",
       "2020-04-29  Customer       3746\n",
       "            Subscriber    17907\n",
       "2020-04-30  Customer       2188\n",
       "            Subscriber    12354\n",
       "Length: 536, dtype: int64"
      ]
     },
     "execution_count": 15,
     "metadata": {},
     "output_type": "execute_result"
    }
   ],
   "source": [
    "usertype_df"
   ]
  },
  {
   "cell_type": "code",
   "execution_count": 17,
   "metadata": {},
   "outputs": [],
   "source": [
    "#Create a database for each year (they will be rather large)\n",
    "report2020= pd.concat([april2020_data, february2020_data, march2020_data])\n",
    "report2019= pd.concat([april2019_data,february2019_data, march2019_data])\n",
    "report2018= pd.concat([april2018_data, february2018_data, march2018_data])"
   ]
  },
  {
   "cell_type": "code",
   "execution_count": 18,
   "metadata": {},
   "outputs": [
    {
     "name": "stdout",
     "output_type": "stream",
     "text": [
      "2898049\n",
      "4037798\n",
      "3127329\n"
     ]
    }
   ],
   "source": [
    "print(len(report2020))\n",
    "print(len(report2019))\n",
    "print(len(report2018))"
   ]
  },
  {
   "cell_type": "code",
   "execution_count": 19,
   "metadata": {},
   "outputs": [],
   "source": [
    "#Write the databases to CSV files for use in Tableau\n",
    "trip_count_df.to_csv('DataSets/trip_count.csv')\n",
    "trip_duration_avg.to_csv('DataSets/trip_duration_avg.csv')\n",
    "gender_df.to_csv('DataSets/genders_data.csv')\n",
    "usertype_df.to_csv('DataSets/usertype_data.csv')\n",
    "report2020.to_csv('DataSets/2020_data.csv')\n",
    "report2019.to_csv('DataSets/2019_data.csv')\n",
    "report2018.to_csv('DataSets/2018_data.csv')"
   ]
  },
  {
   "cell_type": "code",
   "execution_count": null,
   "metadata": {},
   "outputs": [],
   "source": []
  }
 ],
 "metadata": {
  "anaconda-cloud": {},
  "kernel_info": {
   "name": "python3"
  },
  "kernelspec": {
   "display_name": "Python 3",
   "language": "python",
   "name": "python3"
  },
  "language_info": {
   "codemirror_mode": {
    "name": "ipython",
    "version": 3
   },
   "file_extension": ".py",
   "mimetype": "text/x-python",
   "name": "python",
   "nbconvert_exporter": "python",
   "pygments_lexer": "ipython3",
   "version": "3.6.11"
  },
  "latex_envs": {
   "LaTeX_envs_menu_present": true,
   "autoclose": false,
   "autocomplete": true,
   "bibliofile": "biblio.bib",
   "cite_by": "apalike",
   "current_citInitial": 1,
   "eqLabelWithNumbers": true,
   "eqNumInitial": 1,
   "hotkeys": {
    "equation": "Ctrl-E",
    "itemize": "Ctrl-I"
   },
   "labels_anchors": false,
   "latex_user_defs": false,
   "report_style_numbering": false,
   "user_envs_cfg": false
  },
  "nteract": {
   "version": "0.8.4"
  }
 },
 "nbformat": 4,
 "nbformat_minor": 4
}
